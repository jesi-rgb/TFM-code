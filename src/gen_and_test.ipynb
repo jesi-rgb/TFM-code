{
 "metadata": {
  "language_info": {
   "codemirror_mode": {
    "name": "ipython",
    "version": 3
   },
   "file_extension": ".py",
   "mimetype": "text/x-python",
   "name": "python",
   "nbconvert_exporter": "python",
   "pygments_lexer": "ipython3",
   "version": "3.9.0"
  },
  "orig_nbformat": 4,
  "kernelspec": {
   "name": "python3",
   "display_name": "Python 3.9.0 64-bit"
  },
  "interpreter": {
   "hash": "aee8b7b246df8f9039afb4144a1f6fd8d2ca17a180786b69acc140d282b71a49"
  }
 },
 "nbformat": 4,
 "nbformat_minor": 2,
 "cells": [
  {
   "cell_type": "code",
   "execution_count": 1,
   "metadata": {},
   "outputs": [],
   "source": [
    "import torch\n",
    "import os\n",
    "from torch._C import device\n",
    "from torch.utils.data import Dataset, DataLoader\n",
    "from transformers import (\n",
    "    GPT2Tokenizer,\n",
    "    GPT2LMHeadModel,\n",
    "    AdamW,\n",
    "    get_linear_schedule_with_warmup,\n",
    ")\n",
    "import torch.nn.functional as F\n",
    "from tqdm import tqdm, trange"
   ]
  },
  {
   "source": [
    "# COMMENT GENERATION\n",
    "\n",
    "Lets generate comments using our fine-tuned model."
   ],
   "cell_type": "markdown",
   "metadata": {}
  },
  {
   "cell_type": "code",
   "execution_count": null,
   "metadata": {},
   "outputs": [],
   "source": [
    "def generate(\n",
    "    model,\n",
    "    tokenizer,\n",
    "    prompt,\n",
    "    entry_count=10,\n",
    "    entry_length=100,\n",
    "    top_p=0.8,\n",
    "    temperature=1.0,\n",
    "):\n",
    "\n",
    "    model.eval()\n",
    "\n",
    "    generated_num = 0\n",
    "    generated_list = []\n",
    "\n",
    "    filter_value = -float(\"Inf\")\n",
    "\n",
    "    with torch.no_grad():\n",
    "\n",
    "        for entry_idx in trange(entry_count):\n",
    "\n",
    "            entry_finished = False\n",
    "\n",
    "            generated = torch.tensor(tokenizer.encode(prompt)).unsqueeze(0)\n",
    "\n",
    "            # Using top-p (nucleus sampling): https://github.com/huggingface/transformers/blob/master/examples/run_generation.py\n",
    "\n",
    "            for i in range(entry_length):\n",
    "                outputs = model(generated, labels=generated)\n",
    "                loss, logits = outputs[:2]\n",
    "                logits = logits[:, -1, :] / (temperature if temperature > 0 else 1.0)\n",
    "\n",
    "                sorted_logits, sorted_indices = torch.sort(logits, descending=True)\n",
    "                cumulative_probs = torch.cumsum(\n",
    "                    F.softmax(sorted_logits, dim=-1), dim=-1\n",
    "                )\n",
    "\n",
    "                sorted_indices_to_remove = cumulative_probs > top_p\n",
    "                sorted_indices_to_remove[..., 1:] = sorted_indices_to_remove[\n",
    "                    ..., :-1\n",
    "                ].clone()\n",
    "                sorted_indices_to_remove[..., 0] = 0\n",
    "\n",
    "                indices_to_remove = sorted_indices[sorted_indices_to_remove]\n",
    "                logits[:, indices_to_remove] = filter_value\n",
    "\n",
    "                next_token = torch.multinomial(F.softmax(logits, dim=-1), num_samples=1)\n",
    "                generated = torch.cat((generated, next_token), dim=1)\n",
    "\n",
    "                if next_token in tokenizer.encode(\"<|EOS|>\"):\n",
    "                    entry_finished = True\n",
    "\n",
    "                if entry_finished:\n",
    "\n",
    "                    generated_num = generated_num + 1\n",
    "\n",
    "                    output_list = list(generated.squeeze().numpy())\n",
    "                    output_text = tokenizer.decode(output_list)\n",
    "\n",
    "                    generated_list.append(output_text)\n",
    "                    break\n",
    "\n",
    "            if not entry_finished:\n",
    "                output_list = list(generated.squeeze().numpy())\n",
    "                output_text = f\"{tokenizer.decode(output_list)}<|EOS|>\"\n",
    "                generated_list.append(output_text)\n",
    "\n",
    "    return generated_list"
   ]
  },
  {
   "cell_type": "code",
   "execution_count": 7,
   "metadata": {},
   "outputs": [
    {
     "output_type": "execute_result",
     "data": {
      "text/plain": [
       "<All keys matched successfully>"
      ]
     },
     "metadata": {},
     "execution_count": 7
    }
   ],
   "source": [
    "model = GPT2LMHeadModel.from_pretrained('gpt2')\n",
    "model.load_state_dict(torch.load('../trained_models/medtext-final.pt', map_location=torch.device('cpu')))"
   ]
  },
  {
   "cell_type": "code",
   "execution_count": 8,
   "metadata": {},
   "outputs": [],
   "source": [
    "tokenizer = GPT2Tokenizer.from_pretrained('gpt2')"
   ]
  },
  {
   "cell_type": "code",
   "execution_count": null,
   "metadata": {},
   "outputs": [],
   "source": [
    "generated_comments = generate(\n",
    "    model.to('cpu'),\n",
    "    tokenizer,\n",
    "    \"<|BOS|>\",\n",
    "    entry_count=10\n",
    ")\n",
    "\n",
    "with open(\"results/generated_comments.txt\", \"a\") as file:\n",
    "    file.write(\"\\n\".join(generated_comments))"
   ]
  },
  {
   "source": [
    "# TOOL TESTING\n",
    "\n",
    "Now that we have a little batch of 100 comments, let's test the tools and see how they perform, and what information we can extract with their help, as well as any other drawbacks they might add to our workflow."
   ],
   "cell_type": "markdown",
   "metadata": {}
  },
  {
   "cell_type": "code",
   "execution_count": 7,
   "metadata": {},
   "outputs": [],
   "source": [
    "import spacy\n",
    "import re"
   ]
  },
  {
   "cell_type": "code",
   "execution_count": 2,
   "metadata": {},
   "outputs": [
    {
     "output_type": "execute_result",
     "data": {
      "text/plain": [
       "'3.0.6'"
      ]
     },
     "metadata": {},
     "execution_count": 2
    }
   ],
   "source": [
    "spacy.__version__"
   ]
  },
  {
   "cell_type": "code",
   "execution_count": 27,
   "metadata": {},
   "outputs": [],
   "source": [
    "with open('../results/generated_comments.txt') as file:\n",
    "    lines = file.readlines()\n",
    "    synth_comments = [l.removeprefix('<|BOS|>').rstrip('<|EOS|>\\n') for l in lines]"
   ]
  },
  {
   "cell_type": "code",
   "execution_count": 28,
   "metadata": {},
   "outputs": [
    {
     "output_type": "execute_result",
     "data": {
      "text/plain": [
       "['Effect of specific antineoplastic (PAN) injection on the metabolic effect of interleukin-4. Plasmid DNA damage is due to accelerated mutagenesis, so the effects of CRISPR-Cas9-based CRISPR-Cas9 have been studied in vivo. These results suggest that LGM (LB) injection of LGM into mice (F3-F7+) induced an enhanced B-cell mass in LGM-induced mice. These effects were',\n",
       " 'AIMS immunohistochemical evaluation of the formation of Helicobacter pylori pylori, an obligate obligate monobacterium with numerous mutations of its intracellular phenotype, using direct thrombin-immunoblotting systems. The immunohistochemical screening results of approximately 10 cases of Helicobacter pylori pylori (3 micrograms/ml) of varying ages showed clear abnormalities in all 6 years (mean age, 8 years).',\n",
       " 'Unexpected findings in the linkage of orthostatic disequilibrium (AUC) and dyskinesia in patients with recurrent orthostatic muscle disease. Eighty-seven cases of dyskinesia were reported in 27 patients with recurrent orthostatic muscle disease. Exclusion criteria were testing of any diagnostic instrument or functional defect in patients with this disease, as well as the presence of lymph nodes or lymph nodes with which the disease was seen. Interventions included air-mediated oxygenation,',\n",
       " 'Intrauterine adenomatous myeloid tumors in postmenopausal women. This is a 2-year-old patient with the syndrome of acute adenomatous myeloid tumors (AAN) and a mild nonconformist who has metastatic tumors of the breast. She had cystic cell carcinoma with solid tumor growth. No colorectal carcinoma, carcinomas with pyramidal antigen, and metastatic tumors (no colorectal',\n",
       " 'Metabolic risk factors for pancreatic cancer in women: associations with cardiovascular disease, aspirin, exercise, and hypertension. The risk factors for pancreatic cancer, by sex and study size, were studied in 11,553 women who participated in the 1991 National Cancer Institute Health Examination Survey. A prospective cohort study comparing the risk factors for pancreatic cancer and aspirin was conducted. Analyses showed that 95% of the risks of pancreatic cancer were met.']"
      ]
     },
     "metadata": {},
     "execution_count": 28
    }
   ],
   "source": [
    "synth_comments[5:10]"
   ]
  },
  {
   "source": [
    "## MED 7 "
   ],
   "cell_type": "markdown",
   "metadata": {}
  },
  {
   "cell_type": "code",
   "execution_count": 29,
   "metadata": {},
   "outputs": [],
   "source": [
    "med7 = spacy.load(\"en_core_med7_trf\")"
   ]
  },
  {
   "cell_type": "code",
   "execution_count": 30,
   "metadata": {},
   "outputs": [],
   "source": [
    "doc = list(med7.pipe(synth_comments))"
   ]
  },
  {
   "cell_type": "code",
   "execution_count": 31,
   "metadata": {},
   "outputs": [
    {
     "output_type": "execute_result",
     "data": {
      "text/plain": [
       "[[],\n",
       " [],\n",
       " [('gamma-cytosine', 'DRUG'), ('gamma-cytosine', 'DRUG')],\n",
       " [('cimetidine', 'DRUG')],\n",
       " [('creatine kinase', 'DRUG')],\n",
       " [],\n",
       " [],\n",
       " [],\n",
       " [],\n",
       " [('aspirin', 'DRUG'), ('aspirin', 'DRUG')],\n",
       " [],\n",
       " [],\n",
       " [],\n",
       " [],\n",
       " [],\n",
       " [],\n",
       " [],\n",
       " [],\n",
       " [],\n",
       " [],\n",
       " [('metazolam', 'DRUG')],\n",
       " [],\n",
       " [],\n",
       " [],\n",
       " [],\n",
       " [],\n",
       " [],\n",
       " [],\n",
       " [],\n",
       " [('anti-HIP', 'DRUG'),\n",
       "  ('cyclohexylinositolide (CI and/or', 'DRUG'),\n",
       "  ('digoxin', 'DRUG')],\n",
       " [],\n",
       " [],\n",
       " [],\n",
       " [],\n",
       " [],\n",
       " [],\n",
       " [],\n",
       " [],\n",
       " [],\n",
       " [('tDCS', 'DRUG')],\n",
       " [],\n",
       " [('epinephrine', 'DRUG'), ('norepinephrine', 'DRUG'), ('melatonin', 'DRUG')],\n",
       " [],\n",
       " [('Caepristone', 'DRUG'), ('ceftriaxone', 'DRUG')],\n",
       " [],\n",
       " [],\n",
       " [],\n",
       " [],\n",
       " [],\n",
       " [],\n",
       " [],\n",
       " [('oxytocin', 'DRUG'), ('oxytocin', 'DRUG'), ('oxytocin', 'DRUG')],\n",
       " [],\n",
       " [],\n",
       " [('oral', 'ROUTE'),\n",
       "  ('gingival', 'DRUG'),\n",
       "  ('injections', 'FORM'),\n",
       "  ('oral', 'ROUTE'),\n",
       "  ('gingival', 'DRUG')],\n",
       " [],\n",
       " [('anticonvulsant drugs', 'DRUG'),\n",
       "  ('methylphenidate', 'DRUG'),\n",
       "  ('30 mg', 'STRENGTH'),\n",
       "  ('diazepam', 'DRUG'),\n",
       "  ('piperazine', 'DRUG'),\n",
       "  ('15-methylenedioxymethamphetamine', 'STRENGTH'),\n",
       "  ('20 mg', 'STRENGTH'),\n",
       "  ('norepinephrine', 'DRUG'),\n",
       "  ('propionate', 'DRUG'),\n",
       "  ('2-', 'STRENGTH'),\n",
       "  ('methylenedioxymethamphetamine', 'DRUG'),\n",
       "  ('2.5', 'STRENGTH')],\n",
       " [],\n",
       " [],\n",
       " [('glucagon', 'DRUG')],\n",
       " [('methotrexate', 'DRUG')],\n",
       " [],\n",
       " [('antigen-specific components', 'DRUG')],\n",
       " [('5, 10, 20 mg/kg', 'STRENGTH'),\n",
       "  ('anti-bacterial agent', 'DRUG'),\n",
       "  ('50 mg/kg)', 'STRENGTH')],\n",
       " [],\n",
       " [],\n",
       " [('Tri-acrylamide', 'DRUG'),\n",
       "  ('tri-acrylamide', 'DRUG'),\n",
       "  ('8 months', 'DURATION'),\n",
       "  ('15 mg', 'STRENGTH'),\n",
       "  ('tri-acrylamide', 'DRUG'),\n",
       "  ('1 mg', 'STRENGTH'),\n",
       "  ('hemoglobin', 'DRUG'),\n",
       "  ('per day', 'FREQUENCY')],\n",
       " [],\n",
       " [],\n",
       " [],\n",
       " [('insulin', 'DRUG'),\n",
       "  ('insulin', 'DRUG'),\n",
       "  ('insulin', 'DRUG'),\n",
       "  ('insulin', 'DRUG'),\n",
       "  ('BU', 'DRUG'),\n",
       "  ('systemic', 'ROUTE'),\n",
       "  ('insulin', 'DRUG')],\n",
       " [],\n",
       " [],\n",
       " [],\n",
       " [],\n",
       " [],\n",
       " [],\n",
       " [],\n",
       " [],\n",
       " [('Anti-oxidant effects', 'DRUG'),\n",
       "  ('creatine kinase inhibitors', 'DRUG'),\n",
       "  ('creatine kinase inhibitors', 'DRUG'),\n",
       "  ('1 mg (24 mg daily', 'STRENGTH'),\n",
       "  ('creatine', 'DRUG'),\n",
       "  ('placebo', 'DRUG')],\n",
       " [('Insulin', 'DRUG'),\n",
       "  ('intraperitoneal infusion', 'DOSAGE'),\n",
       "  ('insulin', 'DRUG')],\n",
       " [],\n",
       " [],\n",
       " [],\n",
       " [('BPA', 'DRUG')],\n",
       " [],\n",
       " [],\n",
       " [],\n",
       " [],\n",
       " [('venlafaxine', 'DRUG'),\n",
       "  ('venlafaxine', 'DRUG'),\n",
       "  ('intravenous', 'ROUTE'),\n",
       "  ('venlafaxine', 'DRUG'),\n",
       "  ('peripheral arterial', 'ROUTE'),\n",
       "  ('venlafaxine', 'DRUG'),\n",
       "  ('Intraperitoneal', 'ROUTE'),\n",
       "  ('injection', 'FORM'),\n",
       "  ('venlafaxine', 'DRUG')],\n",
       " [('chemotherapy', 'DRUG'),\n",
       "  ('cyclic AMPA', 'ROUTE'),\n",
       "  ('5%', 'STRENGTH'),\n",
       "  ('catecholamine', 'DRUG')],\n",
       " [],\n",
       " [('morphine', 'DRUG'),\n",
       "  ('antifungal medication', 'DRUG'),\n",
       "  ('intravenous', 'ROUTE'),\n",
       "  ('tablets', 'FORM'),\n",
       "  ('intravenous', 'ROUTE'),\n",
       "  ('infusion', 'FORM'),\n",
       "  ('pentobarbital', 'DRUG')],\n",
       " [('gadolinium antifluorocarboxylate', 'DRUG'),\n",
       "  ('gadolinium antifluorocarboxylate', 'DRUG'),\n",
       "  ('gadolinium', 'DRUG'),\n",
       "  ('gadolinium', 'DRUG'),\n",
       "  ('ant', 'ROUTE')],\n",
       " [],\n",
       " [('dopamine', 'DRUG'), ('norepinephrine', 'DRUG')],\n",
       " [('opioids', 'DRUG')],\n",
       " [],\n",
       " [],\n",
       " []]"
      ]
     },
     "metadata": {},
     "execution_count": 31
    }
   ],
   "source": [
    "[[(ent.text, ent.label_) for ent in d.ents] for d in doc]\n"
   ]
  },
  {
   "cell_type": "code",
   "execution_count": null,
   "metadata": {},
   "outputs": [],
   "source": []
  }
 ]
}